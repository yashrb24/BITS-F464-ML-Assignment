{
 "cells": [
  {
   "cell_type": "code",
   "execution_count": 1,
   "metadata": {},
   "outputs": [],
   "source": [
    "import numpy as np\n",
    "import pandas as pd\n",
    "import matplotlib.pyplot as plt"
   ]
  },
  {
   "cell_type": "code",
   "execution_count": 7,
   "metadata": {},
   "outputs": [
    {
     "data": {
      "text/html": [
       "<div>\n",
       "<style scoped>\n",
       "    .dataframe tbody tr th:only-of-type {\n",
       "        vertical-align: middle;\n",
       "    }\n",
       "\n",
       "    .dataframe tbody tr th {\n",
       "        vertical-align: top;\n",
       "    }\n",
       "\n",
       "    .dataframe thead th {\n",
       "        text-align: right;\n",
       "    }\n",
       "</style>\n",
       "<table border=\"1\" class=\"dataframe\">\n",
       "  <thead>\n",
       "    <tr style=\"text-align: right;\">\n",
       "      <th></th>\n",
       "      <th>Feat-1</th>\n",
       "      <th>Feat-2</th>\n",
       "      <th>Feat-3</th>\n",
       "      <th>Feat-4</th>\n",
       "      <th>Feat-5</th>\n",
       "      <th>Feat-6</th>\n",
       "      <th>Feat-7</th>\n",
       "      <th>Feat-8</th>\n",
       "      <th>Feat-9</th>\n",
       "      <th>Feat-10</th>\n",
       "      <th>...</th>\n",
       "      <th>Feat-22</th>\n",
       "      <th>Feat-23</th>\n",
       "      <th>Feat-24</th>\n",
       "      <th>Feat-25</th>\n",
       "      <th>Feat-26</th>\n",
       "      <th>Feat-27</th>\n",
       "      <th>Feat-28</th>\n",
       "      <th>Feat-29</th>\n",
       "      <th>Feat-30</th>\n",
       "      <th>Target</th>\n",
       "    </tr>\n",
       "  </thead>\n",
       "  <tbody>\n",
       "    <tr>\n",
       "      <th>0</th>\n",
       "      <td>0.412963</td>\n",
       "      <td>0.577200</td>\n",
       "      <td>-0.953418</td>\n",
       "      <td>0.798840</td>\n",
       "      <td>0.658006</td>\n",
       "      <td>0.768405</td>\n",
       "      <td>-0.405588</td>\n",
       "      <td>-0.442541</td>\n",
       "      <td>-0.001558</td>\n",
       "      <td>1.049287</td>\n",
       "      <td>...</td>\n",
       "      <td>0.009059</td>\n",
       "      <td>0.646514</td>\n",
       "      <td>0.860895</td>\n",
       "      <td>-2.411875</td>\n",
       "      <td>0.994851</td>\n",
       "      <td>1.025006</td>\n",
       "      <td>0.579802</td>\n",
       "      <td>0.803897</td>\n",
       "      <td>0.904436</td>\n",
       "      <td>0.0</td>\n",
       "    </tr>\n",
       "    <tr>\n",
       "      <th>1</th>\n",
       "      <td>0.591946</td>\n",
       "      <td>1.210280</td>\n",
       "      <td>1.718345</td>\n",
       "      <td>3.053790</td>\n",
       "      <td>-1.179496</td>\n",
       "      <td>1.109550</td>\n",
       "      <td>0.775757</td>\n",
       "      <td>0.153515</td>\n",
       "      <td>-0.001558</td>\n",
       "      <td>0.555115</td>\n",
       "      <td>...</td>\n",
       "      <td>0.009059</td>\n",
       "      <td>1.478546</td>\n",
       "      <td>1.046527</td>\n",
       "      <td>0.503741</td>\n",
       "      <td>1.002365</td>\n",
       "      <td>0.842098</td>\n",
       "      <td>0.713030</td>\n",
       "      <td>0.777919</td>\n",
       "      <td>1.009964</td>\n",
       "      <td>0.0</td>\n",
       "    </tr>\n",
       "    <tr>\n",
       "      <th>2</th>\n",
       "      <td>1.907598</td>\n",
       "      <td>0.455454</td>\n",
       "      <td>-1.252488</td>\n",
       "      <td>0.215091</td>\n",
       "      <td>0.001179</td>\n",
       "      <td>0.489095</td>\n",
       "      <td>2.519551</td>\n",
       "      <td>0.292663</td>\n",
       "      <td>-0.001558</td>\n",
       "      <td>0.460814</td>\n",
       "      <td>...</td>\n",
       "      <td>3.111020</td>\n",
       "      <td>0.886526</td>\n",
       "      <td>0.740503</td>\n",
       "      <td>1.110159</td>\n",
       "      <td>0.998776</td>\n",
       "      <td>0.704871</td>\n",
       "      <td>0.493281</td>\n",
       "      <td>0.594564</td>\n",
       "      <td>0.580279</td>\n",
       "      <td>0.0</td>\n",
       "    </tr>\n",
       "    <tr>\n",
       "      <th>3</th>\n",
       "      <td>1.891311</td>\n",
       "      <td>-1.178866</td>\n",
       "      <td>1.035310</td>\n",
       "      <td>1.221389</td>\n",
       "      <td>1.481984</td>\n",
       "      <td>0.804590</td>\n",
       "      <td>1.561999</td>\n",
       "      <td>-0.699774</td>\n",
       "      <td>-0.001558</td>\n",
       "      <td>0.649795</td>\n",
       "      <td>...</td>\n",
       "      <td>3.111020</td>\n",
       "      <td>1.082386</td>\n",
       "      <td>0.928540</td>\n",
       "      <td>-0.060958</td>\n",
       "      <td>0.988557</td>\n",
       "      <td>0.699047</td>\n",
       "      <td>0.974086</td>\n",
       "      <td>1.213914</td>\n",
       "      <td>1.480364</td>\n",
       "      <td>0.0</td>\n",
       "    </tr>\n",
       "    <tr>\n",
       "      <th>4</th>\n",
       "      <td>1.550914</td>\n",
       "      <td>-0.886675</td>\n",
       "      <td>1.014226</td>\n",
       "      <td>0.666486</td>\n",
       "      <td>-0.244051</td>\n",
       "      <td>0.763458</td>\n",
       "      <td>-0.730383</td>\n",
       "      <td>-1.467584</td>\n",
       "      <td>2.171518</td>\n",
       "      <td>0.957251</td>\n",
       "      <td>...</td>\n",
       "      <td>0.009059</td>\n",
       "      <td>0.915975</td>\n",
       "      <td>0.941412</td>\n",
       "      <td>0.527787</td>\n",
       "      <td>1.308168</td>\n",
       "      <td>1.022230</td>\n",
       "      <td>0.592647</td>\n",
       "      <td>0.897614</td>\n",
       "      <td>0.927630</td>\n",
       "      <td>0.0</td>\n",
       "    </tr>\n",
       "  </tbody>\n",
       "</table>\n",
       "<p>5 rows × 31 columns</p>\n",
       "</div>"
      ],
      "text/plain": [
       "     Feat-1    Feat-2    Feat-3    Feat-4    Feat-5    Feat-6    Feat-7  \\\n",
       "0  0.412963  0.577200 -0.953418  0.798840  0.658006  0.768405 -0.405588   \n",
       "1  0.591946  1.210280  1.718345  3.053790 -1.179496  1.109550  0.775757   \n",
       "2  1.907598  0.455454 -1.252488  0.215091  0.001179  0.489095  2.519551   \n",
       "3  1.891311 -1.178866  1.035310  1.221389  1.481984  0.804590  1.561999   \n",
       "4  1.550914 -0.886675  1.014226  0.666486 -0.244051  0.763458 -0.730383   \n",
       "\n",
       "     Feat-8    Feat-9   Feat-10  ...   Feat-22   Feat-23   Feat-24   Feat-25  \\\n",
       "0 -0.442541 -0.001558  1.049287  ...  0.009059  0.646514  0.860895 -2.411875   \n",
       "1  0.153515 -0.001558  0.555115  ...  0.009059  1.478546  1.046527  0.503741   \n",
       "2  0.292663 -0.001558  0.460814  ...  3.111020  0.886526  0.740503  1.110159   \n",
       "3 -0.699774 -0.001558  0.649795  ...  3.111020  1.082386  0.928540 -0.060958   \n",
       "4 -1.467584  2.171518  0.957251  ...  0.009059  0.915975  0.941412  0.527787   \n",
       "\n",
       "    Feat-26   Feat-27   Feat-28   Feat-29   Feat-30  Target  \n",
       "0  0.994851  1.025006  0.579802  0.803897  0.904436     0.0  \n",
       "1  1.002365  0.842098  0.713030  0.777919  1.009964     0.0  \n",
       "2  0.998776  0.704871  0.493281  0.594564  0.580279     0.0  \n",
       "3  0.988557  0.699047  0.974086  1.213914  1.480364     0.0  \n",
       "4  1.308168  1.022230  0.592647  0.897614  0.927630     0.0  \n",
       "\n",
       "[5 rows x 31 columns]"
      ]
     },
     "execution_count": 7,
     "metadata": {},
     "output_type": "execute_result"
    }
   ],
   "source": [
    "# read train.csv\n",
    "train = pd.read_csv('train.csv')\n",
    "train.head()"
   ]
  },
  {
   "cell_type": "code",
   "execution_count": 8,
   "metadata": {},
   "outputs": [],
   "source": [
    "labels = train['Target'].to_numpy()\n",
    "train = train.drop('Target', axis=1).to_numpy()"
   ]
  },
  {
   "cell_type": "code",
   "execution_count": 9,
   "metadata": {},
   "outputs": [],
   "source": [
    "# standard normalize dataset using sklearn\n",
    "# wasn't needed really as decision trees are not affected by scale\n",
    "# but it's good practice to normalize data\n",
    "\n",
    "from sklearn.preprocessing import StandardScaler\n",
    "\n",
    "scaler = StandardScaler()\n",
    "train = scaler.fit_transform(train)"
   ]
  },
  {
   "cell_type": "code",
   "execution_count": 10,
   "metadata": {},
   "outputs": [],
   "source": [
    "# split the dataset into train and val\n",
    "from sklearn.model_selection import train_test_split\n",
    "\n",
    "train, val, labels_train, labels_val = train_test_split(train, labels, test_size=0.3)"
   ]
  },
  {
   "cell_type": "code",
   "execution_count": 12,
   "metadata": {},
   "outputs": [
    {
     "name": "stderr",
     "output_type": "stream",
     "text": [
      "[Parallel(n_jobs=-1)]: Using backend ThreadingBackend with 12 concurrent workers.\n",
      "[Parallel(n_jobs=-1)]: Done  26 tasks      | elapsed:    6.0s\n",
      "[Parallel(n_jobs=-1)]: Done 100 out of 100 | elapsed:   18.4s finished\n",
      "[Parallel(n_jobs=12)]: Using backend ThreadingBackend with 12 concurrent workers.\n",
      "[Parallel(n_jobs=12)]: Done  26 tasks      | elapsed:    0.1s\n",
      "[Parallel(n_jobs=12)]: Done 100 out of 100 | elapsed:    0.4s finished\n",
      "[Parallel(n_jobs=12)]: Using backend ThreadingBackend with 12 concurrent workers.\n",
      "[Parallel(n_jobs=12)]: Done  26 tasks      | elapsed:    0.1s\n"
     ]
    },
    {
     "name": "stdout",
     "output_type": "stream",
     "text": [
      "Train accuracy: 0.731375\n",
      "Validation accuracy: 0.711775\n"
     ]
    },
    {
     "name": "stderr",
     "output_type": "stream",
     "text": [
      "[Parallel(n_jobs=12)]: Done 100 out of 100 | elapsed:    0.2s finished\n",
      "[Parallel(n_jobs=12)]: Using backend ThreadingBackend with 12 concurrent workers.\n",
      "[Parallel(n_jobs=12)]: Done  26 tasks      | elapsed:    0.2s\n",
      "[Parallel(n_jobs=12)]: Done 100 out of 100 | elapsed:    0.5s finished\n",
      "[Parallel(n_jobs=12)]: Using backend ThreadingBackend with 12 concurrent workers.\n",
      "[Parallel(n_jobs=12)]: Done  26 tasks      | elapsed:    0.1s\n"
     ]
    },
    {
     "name": "stdout",
     "output_type": "stream",
     "text": [
      "Train loss: 0.5589366499524582\n"
     ]
    },
    {
     "name": "stderr",
     "output_type": "stream",
     "text": [
      "[Parallel(n_jobs=12)]: Done 100 out of 100 | elapsed:    0.2s finished\n",
      "[Parallel(n_jobs=12)]: Using backend ThreadingBackend with 12 concurrent workers.\n",
      "[Parallel(n_jobs=12)]: Done  26 tasks      | elapsed:    0.1s\n"
     ]
    },
    {
     "name": "stdout",
     "output_type": "stream",
     "text": [
      "Validation loss: 0.5742970343770641\n"
     ]
    },
    {
     "name": "stderr",
     "output_type": "stream",
     "text": [
      "[Parallel(n_jobs=12)]: Done 100 out of 100 | elapsed:    0.2s finished\n"
     ]
    },
    {
     "name": "stdout",
     "output_type": "stream",
     "text": [
      "              precision    recall  f1-score   support\n",
      "\n",
      "         0.0       0.71      0.66      0.68     56334\n",
      "         1.0       0.72      0.76      0.74     63666\n",
      "\n",
      "    accuracy                           0.71    120000\n",
      "   macro avg       0.71      0.71      0.71    120000\n",
      "weighted avg       0.71      0.71      0.71    120000\n",
      "\n"
     ]
    }
   ],
   "source": [
    "# train the model using random forest\n",
    "from sklearn.ensemble import RandomForestClassifier\n",
    "\n",
    "model = RandomForestClassifier(n_estimators=100, max_depth=10, n_jobs=-1, verbose=1)\n",
    "model.fit(train, labels_train)\n",
    "\n",
    "# accuracy on train and validation dataset\n",
    "print(f\"Train accuracy: {model.score(train, labels_train)}\")\n",
    "print(f\"Validation accuracy: {model.score(val, labels_val)}\")\n",
    "\n",
    "# loss on train and validation dataset\n",
    "from sklearn.metrics import log_loss\n",
    "\n",
    "print(f\"Train loss: {log_loss(labels_train, model.predict_proba(train))}\")\n",
    "print(f\"Validation loss: {log_loss(labels_val, model.predict_proba(val))}\")\n",
    "\n",
    "# precision, recall, f1-score on validation dataset\n",
    "from sklearn.metrics import classification_report\n",
    "\n",
    "print(classification_report(labels_val, model.predict(val)))"
   ]
  },
  {
   "cell_type": "code",
   "execution_count": 13,
   "metadata": {},
   "outputs": [
    {
     "name": "stderr",
     "output_type": "stream",
     "text": [
      "[Parallel(n_jobs=-1)]: Using backend ThreadingBackend with 12 concurrent workers.\n",
      "[Parallel(n_jobs=-1)]: Done  26 tasks      | elapsed:    6.0s\n",
      "[Parallel(n_jobs=-1)]: Done 176 tasks      | elapsed:   31.7s\n",
      "[Parallel(n_jobs=-1)]: Done 200 out of 200 | elapsed:   35.4s finished\n",
      "[Parallel(n_jobs=12)]: Using backend ThreadingBackend with 12 concurrent workers.\n",
      "[Parallel(n_jobs=12)]: Done  26 tasks      | elapsed:    0.1s\n",
      "[Parallel(n_jobs=12)]: Done 176 tasks      | elapsed:    0.8s\n",
      "[Parallel(n_jobs=12)]: Done 200 out of 200 | elapsed:    0.9s finished\n",
      "[Parallel(n_jobs=12)]: Using backend ThreadingBackend with 12 concurrent workers.\n",
      "[Parallel(n_jobs=12)]: Done  26 tasks      | elapsed:    0.1s\n"
     ]
    },
    {
     "name": "stdout",
     "output_type": "stream",
     "text": [
      "Train accuracy: 0.7319464285714286\n"
     ]
    },
    {
     "name": "stderr",
     "output_type": "stream",
     "text": [
      "[Parallel(n_jobs=12)]: Done 176 tasks      | elapsed:    0.3s\n",
      "[Parallel(n_jobs=12)]: Done 200 out of 200 | elapsed:    0.4s finished\n",
      "[Parallel(n_jobs=12)]: Using backend ThreadingBackend with 12 concurrent workers.\n",
      "[Parallel(n_jobs=12)]: Done  26 tasks      | elapsed:    0.1s\n"
     ]
    },
    {
     "name": "stdout",
     "output_type": "stream",
     "text": [
      "Validation accuracy: 0.712325\n"
     ]
    },
    {
     "name": "stderr",
     "output_type": "stream",
     "text": [
      "[Parallel(n_jobs=12)]: Done 176 tasks      | elapsed:    0.8s\n",
      "[Parallel(n_jobs=12)]: Done 200 out of 200 | elapsed:    0.9s finished\n",
      "[Parallel(n_jobs=12)]: Using backend ThreadingBackend with 12 concurrent workers.\n"
     ]
    },
    {
     "name": "stdout",
     "output_type": "stream",
     "text": [
      "Train loss: 0.5581437063226853\n"
     ]
    },
    {
     "name": "stderr",
     "output_type": "stream",
     "text": [
      "[Parallel(n_jobs=12)]: Done  26 tasks      | elapsed:    0.1s\n",
      "[Parallel(n_jobs=12)]: Done 176 tasks      | elapsed:    0.4s\n",
      "[Parallel(n_jobs=12)]: Done 200 out of 200 | elapsed:    0.5s finished\n",
      "[Parallel(n_jobs=12)]: Using backend ThreadingBackend with 12 concurrent workers.\n",
      "[Parallel(n_jobs=12)]: Done  26 tasks      | elapsed:    0.1s\n"
     ]
    },
    {
     "name": "stdout",
     "output_type": "stream",
     "text": [
      "Validation loss: 0.5733617282335567\n"
     ]
    },
    {
     "name": "stderr",
     "output_type": "stream",
     "text": [
      "[Parallel(n_jobs=12)]: Done 176 tasks      | elapsed:    0.3s\n",
      "[Parallel(n_jobs=12)]: Done 200 out of 200 | elapsed:    0.4s finished\n"
     ]
    },
    {
     "name": "stdout",
     "output_type": "stream",
     "text": [
      "              precision    recall  f1-score   support\n",
      "\n",
      "         0.0       0.70      0.67      0.69     56334\n",
      "         1.0       0.72      0.75      0.74     63666\n",
      "\n",
      "    accuracy                           0.71    120000\n",
      "   macro avg       0.71      0.71      0.71    120000\n",
      "weighted avg       0.71      0.71      0.71    120000\n",
      "\n"
     ]
    }
   ],
   "source": [
    "model2 = RandomForestClassifier(n_estimators=200, max_depth=10, n_jobs=-1, verbose=1)\n",
    "model2.fit(train, labels_train)\n",
    "\n",
    "# accuracy on train and validation dataset\n",
    "print(f\"Train accuracy: {model2.score(train, labels_train)}\")\n",
    "print(f\"Validation accuracy: {model2.score(val, labels_val)}\")\n",
    "\n",
    "# loss on train and validation dataset\n",
    "\n",
    "print(f\"Train loss: {log_loss(labels_train, model2.predict_proba(train))}\")\n",
    "print(f\"Validation loss: {log_loss(labels_val, model2.predict_proba(val))}\")\n",
    "\n",
    "# precision, recall, f1-score on validation dataset\n",
    "print(classification_report(labels_val, model2.predict(val)))"
   ]
  },
  {
   "cell_type": "code",
   "execution_count": 14,
   "metadata": {},
   "outputs": [
    {
     "name": "stderr",
     "output_type": "stream",
     "text": [
      "[Parallel(n_jobs=-1)]: Using backend ThreadingBackend with 12 concurrent workers.\n",
      "[Parallel(n_jobs=-1)]: Done  26 tasks      | elapsed:    7.4s\n",
      "[Parallel(n_jobs=-1)]: Done 100 out of 100 | elapsed:   21.9s finished\n",
      "[Parallel(n_jobs=12)]: Using backend ThreadingBackend with 12 concurrent workers.\n",
      "[Parallel(n_jobs=12)]: Done  26 tasks      | elapsed:    0.2s\n",
      "[Parallel(n_jobs=12)]: Done 100 out of 100 | elapsed:    0.7s finished\n",
      "[Parallel(n_jobs=12)]: Using backend ThreadingBackend with 12 concurrent workers.\n",
      "[Parallel(n_jobs=12)]: Done  26 tasks      | elapsed:    0.1s\n"
     ]
    },
    {
     "name": "stdout",
     "output_type": "stream",
     "text": [
      "Train accuracy: 0.8449678571428572\n"
     ]
    },
    {
     "name": "stderr",
     "output_type": "stream",
     "text": [
      "[Parallel(n_jobs=12)]: Done 100 out of 100 | elapsed:    0.3s finished\n",
      "[Parallel(n_jobs=12)]: Using backend ThreadingBackend with 12 concurrent workers.\n"
     ]
    },
    {
     "name": "stdout",
     "output_type": "stream",
     "text": [
      "Validation accuracy: 0.7247333333333333\n"
     ]
    },
    {
     "name": "stderr",
     "output_type": "stream",
     "text": [
      "[Parallel(n_jobs=12)]: Done  26 tasks      | elapsed:    0.2s\n",
      "[Parallel(n_jobs=12)]: Done 100 out of 100 | elapsed:    0.6s finished\n",
      "[Parallel(n_jobs=12)]: Using backend ThreadingBackend with 12 concurrent workers.\n",
      "[Parallel(n_jobs=12)]: Done  26 tasks      | elapsed:    0.1s\n"
     ]
    },
    {
     "name": "stdout",
     "output_type": "stream",
     "text": [
      "Train loss: 0.4443419101179062\n"
     ]
    },
    {
     "name": "stderr",
     "output_type": "stream",
     "text": [
      "[Parallel(n_jobs=12)]: Done 100 out of 100 | elapsed:    0.2s finished\n",
      "[Parallel(n_jobs=12)]: Using backend ThreadingBackend with 12 concurrent workers.\n",
      "[Parallel(n_jobs=12)]: Done  26 tasks      | elapsed:    0.1s\n"
     ]
    },
    {
     "name": "stdout",
     "output_type": "stream",
     "text": [
      "Validation loss: 0.5488566505379215\n",
      "              precision    recall  f1-score   support\n",
      "\n",
      "         0.0       0.71      0.69      0.70     56334\n",
      "         1.0       0.73      0.76      0.74     63666\n",
      "\n",
      "    accuracy                           0.72    120000\n",
      "   macro avg       0.72      0.72      0.72    120000\n",
      "weighted avg       0.72      0.72      0.72    120000\n",
      "\n"
     ]
    },
    {
     "name": "stderr",
     "output_type": "stream",
     "text": [
      "[Parallel(n_jobs=12)]: Done 100 out of 100 | elapsed:    0.2s finished\n"
     ]
    }
   ],
   "source": [
    "model3 = RandomForestClassifier(n_estimators=100, max_depth=15, n_jobs=-1, verbose=1)\n",
    "model3.fit(train, labels_train)\n",
    "\n",
    "# accuracy on train and validation dataset\n",
    "print(f\"Train accuracy: {model3.score(train, labels_train)}\")\n",
    "print(f\"Validation accuracy: {model3.score(val, labels_val)}\")\n",
    "\n",
    "# loss on train and validation dataset\n",
    "\n",
    "print(f\"Train loss: {log_loss(labels_train, model3.predict_proba(train))}\")\n",
    "print(f\"Validation loss: {log_loss(labels_val, model3.predict_proba(val))}\")\n",
    "\n",
    "# precision, recall, f1-score on validation dataset\n",
    "print(classification_report(labels_val, model3.predict(val)))"
   ]
  },
  {
   "cell_type": "code",
   "execution_count": 15,
   "metadata": {},
   "outputs": [
    {
     "name": "stderr",
     "output_type": "stream",
     "text": [
      "[Parallel(n_jobs=-1)]: Using backend ThreadingBackend with 12 concurrent workers.\n",
      "[Parallel(n_jobs=-1)]: Done  26 tasks      | elapsed:    7.6s\n",
      "[Parallel(n_jobs=-1)]: Done 176 tasks      | elapsed:   40.1s\n",
      "[Parallel(n_jobs=-1)]: Done 200 out of 200 | elapsed:   44.3s finished\n",
      "[Parallel(n_jobs=12)]: Using backend ThreadingBackend with 12 concurrent workers.\n",
      "[Parallel(n_jobs=12)]: Done  26 tasks      | elapsed:    0.2s\n",
      "[Parallel(n_jobs=12)]: Done 176 tasks      | elapsed:    1.2s\n",
      "[Parallel(n_jobs=12)]: Done 200 out of 200 | elapsed:    1.3s finished\n",
      "[Parallel(n_jobs=12)]: Using backend ThreadingBackend with 12 concurrent workers.\n"
     ]
    },
    {
     "name": "stdout",
     "output_type": "stream",
     "text": [
      "Train accuracy: 0.8473535714285715\n"
     ]
    },
    {
     "name": "stderr",
     "output_type": "stream",
     "text": [
      "[Parallel(n_jobs=12)]: Done  26 tasks      | elapsed:    0.1s\n",
      "[Parallel(n_jobs=12)]: Done 176 tasks      | elapsed:    0.5s\n",
      "[Parallel(n_jobs=12)]: Done 200 out of 200 | elapsed:    0.5s finished\n",
      "[Parallel(n_jobs=12)]: Using backend ThreadingBackend with 12 concurrent workers.\n"
     ]
    },
    {
     "name": "stdout",
     "output_type": "stream",
     "text": [
      "Validation accuracy: 0.72555\n"
     ]
    },
    {
     "name": "stderr",
     "output_type": "stream",
     "text": [
      "[Parallel(n_jobs=12)]: Done  26 tasks      | elapsed:    0.2s\n",
      "[Parallel(n_jobs=12)]: Done 176 tasks      | elapsed:    1.2s\n",
      "[Parallel(n_jobs=12)]: Done 200 out of 200 | elapsed:    1.3s finished\n",
      "[Parallel(n_jobs=12)]: Using backend ThreadingBackend with 12 concurrent workers.\n"
     ]
    },
    {
     "name": "stdout",
     "output_type": "stream",
     "text": [
      "Train loss: 0.44290843538280844\n"
     ]
    },
    {
     "name": "stderr",
     "output_type": "stream",
     "text": [
      "[Parallel(n_jobs=12)]: Done  26 tasks      | elapsed:    0.1s\n",
      "[Parallel(n_jobs=12)]: Done 176 tasks      | elapsed:    0.5s\n",
      "[Parallel(n_jobs=12)]: Done 200 out of 200 | elapsed:    0.5s finished\n",
      "[Parallel(n_jobs=12)]: Using backend ThreadingBackend with 12 concurrent workers.\n",
      "[Parallel(n_jobs=12)]: Done  26 tasks      | elapsed:    0.1s\n"
     ]
    },
    {
     "name": "stdout",
     "output_type": "stream",
     "text": [
      "Validation loss: 0.5478000717357183\n"
     ]
    },
    {
     "name": "stderr",
     "output_type": "stream",
     "text": [
      "[Parallel(n_jobs=12)]: Done 176 tasks      | elapsed:    0.5s\n",
      "[Parallel(n_jobs=12)]: Done 200 out of 200 | elapsed:    0.5s finished\n"
     ]
    },
    {
     "name": "stdout",
     "output_type": "stream",
     "text": [
      "              precision    recall  f1-score   support\n",
      "\n",
      "         0.0       0.72      0.69      0.70     56334\n",
      "         1.0       0.73      0.76      0.75     63666\n",
      "\n",
      "    accuracy                           0.73    120000\n",
      "   macro avg       0.72      0.72      0.72    120000\n",
      "weighted avg       0.73      0.73      0.73    120000\n",
      "\n"
     ]
    }
   ],
   "source": [
    "model4 = RandomForestClassifier(n_estimators=200, max_depth=15, n_jobs=-1, verbose=1)\n",
    "model4.fit(train, labels_train)\n",
    "\n",
    "# accuracy on train and validation dataset\n",
    "print(f\"Train accuracy: {model4.score(train, labels_train)}\")\n",
    "print(f\"Validation accuracy: {model4.score(val, labels_val)}\")\n",
    "\n",
    "# loss on train and validation dataset\n",
    "\n",
    "print(f\"Train loss: {log_loss(labels_train, model4.predict_proba(train))}\")\n",
    "print(f\"Validation loss: {log_loss(labels_val, model4.predict_proba(val))}\")\n",
    "\n",
    "# precision, recall, f1-score on validation dataset\n",
    "print(classification_report(labels_val, model4.predict(val)))"
   ]
  },
  {
   "cell_type": "code",
   "execution_count": 16,
   "metadata": {},
   "outputs": [
    {
     "name": "stderr",
     "output_type": "stream",
     "text": [
      "[Parallel(n_jobs=-1)]: Using backend ThreadingBackend with 12 concurrent workers.\n",
      "[Parallel(n_jobs=-1)]: Done  26 tasks      | elapsed:    8.1s\n",
      "[Parallel(n_jobs=-1)]: Done 176 tasks      | elapsed:   39.9s\n",
      "[Parallel(n_jobs=-1)]: Done 300 out of 300 | elapsed:  1.1min finished\n",
      "[Parallel(n_jobs=12)]: Using backend ThreadingBackend with 12 concurrent workers.\n",
      "[Parallel(n_jobs=12)]: Done  26 tasks      | elapsed:    0.2s\n",
      "[Parallel(n_jobs=12)]: Done 176 tasks      | elapsed:    1.2s\n",
      "[Parallel(n_jobs=12)]: Done 300 out of 300 | elapsed:    1.9s finished\n",
      "[Parallel(n_jobs=12)]: Using backend ThreadingBackend with 12 concurrent workers.\n",
      "[Parallel(n_jobs=12)]: Done  26 tasks      | elapsed:    0.1s\n"
     ]
    },
    {
     "name": "stdout",
     "output_type": "stream",
     "text": [
      "Train accuracy: 0.8462678571428571\n"
     ]
    },
    {
     "name": "stderr",
     "output_type": "stream",
     "text": [
      "[Parallel(n_jobs=12)]: Done 176 tasks      | elapsed:    0.5s\n",
      "[Parallel(n_jobs=12)]: Done 300 out of 300 | elapsed:    0.8s finished\n",
      "[Parallel(n_jobs=12)]: Using backend ThreadingBackend with 12 concurrent workers.\n"
     ]
    },
    {
     "name": "stdout",
     "output_type": "stream",
     "text": [
      "Validation accuracy: 0.7265833333333334\n"
     ]
    },
    {
     "name": "stderr",
     "output_type": "stream",
     "text": [
      "[Parallel(n_jobs=12)]: Done  26 tasks      | elapsed:    0.2s\n",
      "[Parallel(n_jobs=12)]: Done 176 tasks      | elapsed:    1.1s\n",
      "[Parallel(n_jobs=12)]: Done 300 out of 300 | elapsed:    1.9s finished\n",
      "[Parallel(n_jobs=12)]: Using backend ThreadingBackend with 12 concurrent workers.\n",
      "[Parallel(n_jobs=12)]: Done  26 tasks      | elapsed:    0.1s\n"
     ]
    },
    {
     "name": "stdout",
     "output_type": "stream",
     "text": [
      "Train loss: 0.44408122036266845\n"
     ]
    },
    {
     "name": "stderr",
     "output_type": "stream",
     "text": [
      "[Parallel(n_jobs=12)]: Done 176 tasks      | elapsed:    0.5s\n",
      "[Parallel(n_jobs=12)]: Done 300 out of 300 | elapsed:    0.8s finished\n",
      "[Parallel(n_jobs=12)]: Using backend ThreadingBackend with 12 concurrent workers.\n",
      "[Parallel(n_jobs=12)]: Done  26 tasks      | elapsed:    0.1s\n"
     ]
    },
    {
     "name": "stdout",
     "output_type": "stream",
     "text": [
      "Validation loss: 0.5476275157385199\n"
     ]
    },
    {
     "name": "stderr",
     "output_type": "stream",
     "text": [
      "[Parallel(n_jobs=12)]: Done 176 tasks      | elapsed:    0.5s\n"
     ]
    },
    {
     "name": "stdout",
     "output_type": "stream",
     "text": [
      "              precision    recall  f1-score   support\n",
      "\n",
      "         0.0       0.72      0.69      0.70     56334\n",
      "         1.0       0.74      0.76      0.75     63666\n",
      "\n",
      "    accuracy                           0.73    120000\n",
      "   macro avg       0.73      0.72      0.72    120000\n",
      "weighted avg       0.73      0.73      0.73    120000\n",
      "\n"
     ]
    },
    {
     "name": "stderr",
     "output_type": "stream",
     "text": [
      "[Parallel(n_jobs=12)]: Done 300 out of 300 | elapsed:    0.8s finished\n"
     ]
    }
   ],
   "source": [
    "model5 = RandomForestClassifier(n_estimators=300, max_depth=15, n_jobs=-1, verbose=1)\n",
    "model5.fit(train, labels_train)\n",
    "\n",
    "# accuracy on train and validation dataset\n",
    "print(f\"Train accuracy: {model5.score(train, labels_train)}\")\n",
    "print(f\"Validation accuracy: {model5.score(val, labels_val)}\")\n",
    "\n",
    "# loss on train and validation dataset\n",
    "\n",
    "print(f\"Train loss: {log_loss(labels_train, model5.predict_proba(train))}\")\n",
    "print(f\"Validation loss: {log_loss(labels_val, model5.predict_proba(val))}\")\n",
    "\n",
    "# precision, recall, f1-score on validation dataset\n",
    "print(classification_report(labels_val, model5.predict(val)))"
   ]
  },
  {
   "cell_type": "code",
   "execution_count": null,
   "metadata": {},
   "outputs": [],
   "source": []
  }
 ],
 "metadata": {
  "kernelspec": {
   "display_name": "Python 3",
   "language": "python",
   "name": "python3"
  },
  "language_info": {
   "codemirror_mode": {
    "name": "ipython",
    "version": 3
   },
   "file_extension": ".py",
   "mimetype": "text/x-python",
   "name": "python",
   "nbconvert_exporter": "python",
   "pygments_lexer": "ipython3",
   "version": "3.10.12"
  }
 },
 "nbformat": 4,
 "nbformat_minor": 2
}
