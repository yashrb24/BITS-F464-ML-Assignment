{
 "cells": [
  {
   "cell_type": "code",
   "execution_count": 1,
   "metadata": {},
   "outputs": [],
   "source": [
    "import numpy as np\n",
    "import pandas as pd\n",
    "import matplotlib.pyplot as plt"
   ]
  },
  {
   "cell_type": "code",
   "execution_count": 2,
   "metadata": {},
   "outputs": [
    {
     "data": {
      "text/html": [
       "<div>\n",
       "<style scoped>\n",
       "    .dataframe tbody tr th:only-of-type {\n",
       "        vertical-align: middle;\n",
       "    }\n",
       "\n",
       "    .dataframe tbody tr th {\n",
       "        vertical-align: top;\n",
       "    }\n",
       "\n",
       "    .dataframe thead th {\n",
       "        text-align: right;\n",
       "    }\n",
       "</style>\n",
       "<table border=\"1\" class=\"dataframe\">\n",
       "  <thead>\n",
       "    <tr style=\"text-align: right;\">\n",
       "      <th></th>\n",
       "      <th>Feat-1</th>\n",
       "      <th>Feat-2</th>\n",
       "      <th>Feat-3</th>\n",
       "      <th>Feat-4</th>\n",
       "      <th>Feat-5</th>\n",
       "      <th>Feat-6</th>\n",
       "      <th>Feat-7</th>\n",
       "      <th>Feat-8</th>\n",
       "      <th>Feat-9</th>\n",
       "      <th>Feat-10</th>\n",
       "      <th>...</th>\n",
       "      <th>Feat-22</th>\n",
       "      <th>Feat-23</th>\n",
       "      <th>Feat-24</th>\n",
       "      <th>Feat-25</th>\n",
       "      <th>Feat-26</th>\n",
       "      <th>Feat-27</th>\n",
       "      <th>Feat-28</th>\n",
       "      <th>Feat-29</th>\n",
       "      <th>Feat-30</th>\n",
       "      <th>Target</th>\n",
       "    </tr>\n",
       "  </thead>\n",
       "  <tbody>\n",
       "    <tr>\n",
       "      <th>0</th>\n",
       "      <td>0.412963</td>\n",
       "      <td>0.577200</td>\n",
       "      <td>-0.953418</td>\n",
       "      <td>0.798840</td>\n",
       "      <td>0.658006</td>\n",
       "      <td>0.768405</td>\n",
       "      <td>-0.405588</td>\n",
       "      <td>-0.442541</td>\n",
       "      <td>-0.001558</td>\n",
       "      <td>1.049287</td>\n",
       "      <td>...</td>\n",
       "      <td>0.009059</td>\n",
       "      <td>0.646514</td>\n",
       "      <td>0.860895</td>\n",
       "      <td>-2.411875</td>\n",
       "      <td>0.994851</td>\n",
       "      <td>1.025006</td>\n",
       "      <td>0.579802</td>\n",
       "      <td>0.803897</td>\n",
       "      <td>0.904436</td>\n",
       "      <td>0.0</td>\n",
       "    </tr>\n",
       "    <tr>\n",
       "      <th>1</th>\n",
       "      <td>0.591946</td>\n",
       "      <td>1.210280</td>\n",
       "      <td>1.718345</td>\n",
       "      <td>3.053790</td>\n",
       "      <td>-1.179496</td>\n",
       "      <td>1.109550</td>\n",
       "      <td>0.775757</td>\n",
       "      <td>0.153515</td>\n",
       "      <td>-0.001558</td>\n",
       "      <td>0.555115</td>\n",
       "      <td>...</td>\n",
       "      <td>0.009059</td>\n",
       "      <td>1.478546</td>\n",
       "      <td>1.046527</td>\n",
       "      <td>0.503741</td>\n",
       "      <td>1.002365</td>\n",
       "      <td>0.842098</td>\n",
       "      <td>0.713030</td>\n",
       "      <td>0.777919</td>\n",
       "      <td>1.009964</td>\n",
       "      <td>0.0</td>\n",
       "    </tr>\n",
       "    <tr>\n",
       "      <th>2</th>\n",
       "      <td>1.907598</td>\n",
       "      <td>0.455454</td>\n",
       "      <td>-1.252488</td>\n",
       "      <td>0.215091</td>\n",
       "      <td>0.001179</td>\n",
       "      <td>0.489095</td>\n",
       "      <td>2.519551</td>\n",
       "      <td>0.292663</td>\n",
       "      <td>-0.001558</td>\n",
       "      <td>0.460814</td>\n",
       "      <td>...</td>\n",
       "      <td>3.111020</td>\n",
       "      <td>0.886526</td>\n",
       "      <td>0.740503</td>\n",
       "      <td>1.110159</td>\n",
       "      <td>0.998776</td>\n",
       "      <td>0.704871</td>\n",
       "      <td>0.493281</td>\n",
       "      <td>0.594564</td>\n",
       "      <td>0.580279</td>\n",
       "      <td>0.0</td>\n",
       "    </tr>\n",
       "    <tr>\n",
       "      <th>3</th>\n",
       "      <td>1.891311</td>\n",
       "      <td>-1.178866</td>\n",
       "      <td>1.035310</td>\n",
       "      <td>1.221389</td>\n",
       "      <td>1.481984</td>\n",
       "      <td>0.804590</td>\n",
       "      <td>1.561999</td>\n",
       "      <td>-0.699774</td>\n",
       "      <td>-0.001558</td>\n",
       "      <td>0.649795</td>\n",
       "      <td>...</td>\n",
       "      <td>3.111020</td>\n",
       "      <td>1.082386</td>\n",
       "      <td>0.928540</td>\n",
       "      <td>-0.060958</td>\n",
       "      <td>0.988557</td>\n",
       "      <td>0.699047</td>\n",
       "      <td>0.974086</td>\n",
       "      <td>1.213914</td>\n",
       "      <td>1.480364</td>\n",
       "      <td>0.0</td>\n",
       "    </tr>\n",
       "    <tr>\n",
       "      <th>4</th>\n",
       "      <td>1.550914</td>\n",
       "      <td>-0.886675</td>\n",
       "      <td>1.014226</td>\n",
       "      <td>0.666486</td>\n",
       "      <td>-0.244051</td>\n",
       "      <td>0.763458</td>\n",
       "      <td>-0.730383</td>\n",
       "      <td>-1.467584</td>\n",
       "      <td>2.171518</td>\n",
       "      <td>0.957251</td>\n",
       "      <td>...</td>\n",
       "      <td>0.009059</td>\n",
       "      <td>0.915975</td>\n",
       "      <td>0.941412</td>\n",
       "      <td>0.527787</td>\n",
       "      <td>1.308168</td>\n",
       "      <td>1.022230</td>\n",
       "      <td>0.592647</td>\n",
       "      <td>0.897614</td>\n",
       "      <td>0.927630</td>\n",
       "      <td>0.0</td>\n",
       "    </tr>\n",
       "  </tbody>\n",
       "</table>\n",
       "<p>5 rows × 31 columns</p>\n",
       "</div>"
      ],
      "text/plain": [
       "     Feat-1    Feat-2    Feat-3    Feat-4    Feat-5    Feat-6    Feat-7  \\\n",
       "0  0.412963  0.577200 -0.953418  0.798840  0.658006  0.768405 -0.405588   \n",
       "1  0.591946  1.210280  1.718345  3.053790 -1.179496  1.109550  0.775757   \n",
       "2  1.907598  0.455454 -1.252488  0.215091  0.001179  0.489095  2.519551   \n",
       "3  1.891311 -1.178866  1.035310  1.221389  1.481984  0.804590  1.561999   \n",
       "4  1.550914 -0.886675  1.014226  0.666486 -0.244051  0.763458 -0.730383   \n",
       "\n",
       "     Feat-8    Feat-9   Feat-10  ...   Feat-22   Feat-23   Feat-24   Feat-25  \\\n",
       "0 -0.442541 -0.001558  1.049287  ...  0.009059  0.646514  0.860895 -2.411875   \n",
       "1  0.153515 -0.001558  0.555115  ...  0.009059  1.478546  1.046527  0.503741   \n",
       "2  0.292663 -0.001558  0.460814  ...  3.111020  0.886526  0.740503  1.110159   \n",
       "3 -0.699774 -0.001558  0.649795  ...  3.111020  1.082386  0.928540 -0.060958   \n",
       "4 -1.467584  2.171518  0.957251  ...  0.009059  0.915975  0.941412  0.527787   \n",
       "\n",
       "    Feat-26   Feat-27   Feat-28   Feat-29   Feat-30  Target  \n",
       "0  0.994851  1.025006  0.579802  0.803897  0.904436     0.0  \n",
       "1  1.002365  0.842098  0.713030  0.777919  1.009964     0.0  \n",
       "2  0.998776  0.704871  0.493281  0.594564  0.580279     0.0  \n",
       "3  0.988557  0.699047  0.974086  1.213914  1.480364     0.0  \n",
       "4  1.308168  1.022230  0.592647  0.897614  0.927630     0.0  \n",
       "\n",
       "[5 rows x 31 columns]"
      ]
     },
     "execution_count": 2,
     "metadata": {},
     "output_type": "execute_result"
    }
   ],
   "source": [
    "# read train.csv\n",
    "train = pd.read_csv('train.csv')\n",
    "train.head()"
   ]
  },
  {
   "cell_type": "code",
   "execution_count": 4,
   "metadata": {},
   "outputs": [],
   "source": [
    "labels = train['Target'].to_numpy()\n",
    "train = train.drop('Target', axis=1).to_numpy()"
   ]
  },
  {
   "cell_type": "code",
   "execution_count": 5,
   "metadata": {},
   "outputs": [],
   "source": [
    "# standard normalize dataset using sklearn\n",
    "from sklearn.preprocessing import StandardScaler\n",
    "\n",
    "scaler = StandardScaler()\n",
    "train = scaler.fit_transform(train)"
   ]
  },
  {
   "cell_type": "code",
   "execution_count": 6,
   "metadata": {},
   "outputs": [],
   "source": [
    "# split the dataset into train and val\n",
    "from sklearn.model_selection import train_test_split\n",
    "\n",
    "train, val, labels_train, labels_val = train_test_split(train, labels, test_size=0.3)"
   ]
  },
  {
   "cell_type": "code",
   "execution_count": 7,
   "metadata": {},
   "outputs": [
    {
     "data": {
      "text/html": [
       "<style>#sk-container-id-1 {color: black;}#sk-container-id-1 pre{padding: 0;}#sk-container-id-1 div.sk-toggleable {background-color: white;}#sk-container-id-1 label.sk-toggleable__label {cursor: pointer;display: block;width: 100%;margin-bottom: 0;padding: 0.3em;box-sizing: border-box;text-align: center;}#sk-container-id-1 label.sk-toggleable__label-arrow:before {content: \"▸\";float: left;margin-right: 0.25em;color: #696969;}#sk-container-id-1 label.sk-toggleable__label-arrow:hover:before {color: black;}#sk-container-id-1 div.sk-estimator:hover label.sk-toggleable__label-arrow:before {color: black;}#sk-container-id-1 div.sk-toggleable__content {max-height: 0;max-width: 0;overflow: hidden;text-align: left;background-color: #f0f8ff;}#sk-container-id-1 div.sk-toggleable__content pre {margin: 0.2em;color: black;border-radius: 0.25em;background-color: #f0f8ff;}#sk-container-id-1 input.sk-toggleable__control:checked~div.sk-toggleable__content {max-height: 200px;max-width: 100%;overflow: auto;}#sk-container-id-1 input.sk-toggleable__control:checked~label.sk-toggleable__label-arrow:before {content: \"▾\";}#sk-container-id-1 div.sk-estimator input.sk-toggleable__control:checked~label.sk-toggleable__label {background-color: #d4ebff;}#sk-container-id-1 div.sk-label input.sk-toggleable__control:checked~label.sk-toggleable__label {background-color: #d4ebff;}#sk-container-id-1 input.sk-hidden--visually {border: 0;clip: rect(1px 1px 1px 1px);clip: rect(1px, 1px, 1px, 1px);height: 1px;margin: -1px;overflow: hidden;padding: 0;position: absolute;width: 1px;}#sk-container-id-1 div.sk-estimator {font-family: monospace;background-color: #f0f8ff;border: 1px dotted black;border-radius: 0.25em;box-sizing: border-box;margin-bottom: 0.5em;}#sk-container-id-1 div.sk-estimator:hover {background-color: #d4ebff;}#sk-container-id-1 div.sk-parallel-item::after {content: \"\";width: 100%;border-bottom: 1px solid gray;flex-grow: 1;}#sk-container-id-1 div.sk-label:hover label.sk-toggleable__label {background-color: #d4ebff;}#sk-container-id-1 div.sk-serial::before {content: \"\";position: absolute;border-left: 1px solid gray;box-sizing: border-box;top: 0;bottom: 0;left: 50%;z-index: 0;}#sk-container-id-1 div.sk-serial {display: flex;flex-direction: column;align-items: center;background-color: white;padding-right: 0.2em;padding-left: 0.2em;position: relative;}#sk-container-id-1 div.sk-item {position: relative;z-index: 1;}#sk-container-id-1 div.sk-parallel {display: flex;align-items: stretch;justify-content: center;background-color: white;position: relative;}#sk-container-id-1 div.sk-item::before, #sk-container-id-1 div.sk-parallel-item::before {content: \"\";position: absolute;border-left: 1px solid gray;box-sizing: border-box;top: 0;bottom: 0;left: 50%;z-index: -1;}#sk-container-id-1 div.sk-parallel-item {display: flex;flex-direction: column;z-index: 1;position: relative;background-color: white;}#sk-container-id-1 div.sk-parallel-item:first-child::after {align-self: flex-end;width: 50%;}#sk-container-id-1 div.sk-parallel-item:last-child::after {align-self: flex-start;width: 50%;}#sk-container-id-1 div.sk-parallel-item:only-child::after {width: 0;}#sk-container-id-1 div.sk-dashed-wrapped {border: 1px dashed gray;margin: 0 0.4em 0.5em 0.4em;box-sizing: border-box;padding-bottom: 0.4em;background-color: white;}#sk-container-id-1 div.sk-label label {font-family: monospace;font-weight: bold;display: inline-block;line-height: 1.2em;}#sk-container-id-1 div.sk-label-container {text-align: center;}#sk-container-id-1 div.sk-container {/* jupyter's `normalize.less` sets `[hidden] { display: none; }` but bootstrap.min.css set `[hidden] { display: none !important; }` so we also need the `!important` here to be able to override the default hidden behavior on the sphinx rendered scikit-learn.org. See: https://github.com/scikit-learn/scikit-learn/issues/21755 */display: inline-block !important;position: relative;}#sk-container-id-1 div.sk-text-repr-fallback {display: none;}</style><div id=\"sk-container-id-1\" class=\"sk-top-container\"><div class=\"sk-text-repr-fallback\"><pre>LogisticRegression()</pre><b>In a Jupyter environment, please rerun this cell to show the HTML representation or trust the notebook. <br />On GitHub, the HTML representation is unable to render, please try loading this page with nbviewer.org.</b></div><div class=\"sk-container\" hidden><div class=\"sk-item\"><div class=\"sk-estimator sk-toggleable\"><input class=\"sk-toggleable__control sk-hidden--visually\" id=\"sk-estimator-id-1\" type=\"checkbox\" checked><label for=\"sk-estimator-id-1\" class=\"sk-toggleable__label sk-toggleable__label-arrow\">LogisticRegression</label><div class=\"sk-toggleable__content\"><pre>LogisticRegression()</pre></div></div></div></div></div>"
      ],
      "text/plain": [
       "LogisticRegression()"
      ]
     },
     "execution_count": 7,
     "metadata": {},
     "output_type": "execute_result"
    }
   ],
   "source": [
    "# train the model using logistic regression\n",
    "from sklearn.linear_model import LogisticRegression\n",
    "\n",
    "model = LogisticRegression()\n",
    "model.fit(train, labels_train)"
   ]
  },
  {
   "cell_type": "code",
   "execution_count": 8,
   "metadata": {},
   "outputs": [
    {
     "name": "stdout",
     "output_type": "stream",
     "text": [
      "Train accuracy:  0.64105\n",
      "Validation accuracy:  0.6421583333333334\n"
     ]
    }
   ],
   "source": [
    "# accuracy on train and test dataset\n",
    "print(\"Train accuracy: \", model.score(train, labels_train))\n",
    "print(\"Validation accuracy: \", model.score(val, labels_val))"
   ]
  },
  {
   "cell_type": "code",
   "execution_count": 9,
   "metadata": {},
   "outputs": [
    {
     "name": "stdout",
     "output_type": "stream",
     "text": [
      "Train loss:  0.6382058086749699\n",
      "Validation loss:  0.6373053267686201\n"
     ]
    }
   ],
   "source": [
    "# loss on train and val dataset\n",
    "from sklearn.metrics import log_loss\n",
    "\n",
    "print(\"Train loss: \", log_loss(labels_train, model.predict_proba(train)))\n",
    "print(\"Validation loss: \", log_loss(labels_val, model.predict_proba(val)))"
   ]
  },
  {
   "cell_type": "code",
   "execution_count": 11,
   "metadata": {},
   "outputs": [
    {
     "name": "stdout",
     "output_type": "stream",
     "text": [
      "Train classification report: \n",
      "               precision    recall  f1-score   support\n",
      "\n",
      "         0.0       0.64      0.53      0.58    131725\n",
      "         1.0       0.64      0.74      0.69    148275\n",
      "\n",
      "    accuracy                           0.64    280000\n",
      "   macro avg       0.64      0.63      0.63    280000\n",
      "weighted avg       0.64      0.64      0.64    280000\n",
      "\n",
      "Validation classification report: \n",
      "               precision    recall  f1-score   support\n",
      "\n",
      "         0.0       0.65      0.53      0.58     56449\n",
      "         1.0       0.64      0.74      0.69     63551\n",
      "\n",
      "    accuracy                           0.64    120000\n",
      "   macro avg       0.64      0.64      0.63    120000\n",
      "weighted avg       0.64      0.64      0.64    120000\n",
      "\n",
      "Train confusion matrix: \n",
      " [[ 69449  62276]\n",
      " [ 38230 110045]]\n",
      "Validation confusion matrix: \n",
      " [[29714 26735]\n",
      " [16206 47345]]\n"
     ]
    }
   ],
   "source": [
    "# precision, recall, f1-score, confusion matrix on train and val dataset using sklearn\n",
    "from sklearn.metrics import classification_report, confusion_matrix\n",
    "\n",
    "print(\"Train classification report: \\n\", classification_report(labels_train, model.predict(train)))\n",
    "print(\"Validation classification report: \\n\", classification_report(labels_val, model.predict(val)))\n",
    "\n",
    "print(\"Train confusion matrix: \\n\", confusion_matrix(labels_train, model.predict(train)))\n",
    "print(\"Validation confusion matrix: \\n\", confusion_matrix(labels_val, model.predict(val)))\n"
   ]
  },
  {
   "cell_type": "code",
   "execution_count": 46,
   "metadata": {},
   "outputs": [],
   "source": [
    "# apply pca on the dataset\n",
    "from sklearn.decomposition import PCA\n",
    "\n",
    "pca = PCA(n_components=0.8)\n",
    "train_pca = pca.fit_transform(train)\n",
    "val_pca = pca.transform(val)"
   ]
  },
  {
   "cell_type": "code",
   "execution_count": 47,
   "metadata": {},
   "outputs": [
    {
     "data": {
      "text/html": [
       "<style>#sk-container-id-13 {color: black;}#sk-container-id-13 pre{padding: 0;}#sk-container-id-13 div.sk-toggleable {background-color: white;}#sk-container-id-13 label.sk-toggleable__label {cursor: pointer;display: block;width: 100%;margin-bottom: 0;padding: 0.3em;box-sizing: border-box;text-align: center;}#sk-container-id-13 label.sk-toggleable__label-arrow:before {content: \"▸\";float: left;margin-right: 0.25em;color: #696969;}#sk-container-id-13 label.sk-toggleable__label-arrow:hover:before {color: black;}#sk-container-id-13 div.sk-estimator:hover label.sk-toggleable__label-arrow:before {color: black;}#sk-container-id-13 div.sk-toggleable__content {max-height: 0;max-width: 0;overflow: hidden;text-align: left;background-color: #f0f8ff;}#sk-container-id-13 div.sk-toggleable__content pre {margin: 0.2em;color: black;border-radius: 0.25em;background-color: #f0f8ff;}#sk-container-id-13 input.sk-toggleable__control:checked~div.sk-toggleable__content {max-height: 200px;max-width: 100%;overflow: auto;}#sk-container-id-13 input.sk-toggleable__control:checked~label.sk-toggleable__label-arrow:before {content: \"▾\";}#sk-container-id-13 div.sk-estimator input.sk-toggleable__control:checked~label.sk-toggleable__label {background-color: #d4ebff;}#sk-container-id-13 div.sk-label input.sk-toggleable__control:checked~label.sk-toggleable__label {background-color: #d4ebff;}#sk-container-id-13 input.sk-hidden--visually {border: 0;clip: rect(1px 1px 1px 1px);clip: rect(1px, 1px, 1px, 1px);height: 1px;margin: -1px;overflow: hidden;padding: 0;position: absolute;width: 1px;}#sk-container-id-13 div.sk-estimator {font-family: monospace;background-color: #f0f8ff;border: 1px dotted black;border-radius: 0.25em;box-sizing: border-box;margin-bottom: 0.5em;}#sk-container-id-13 div.sk-estimator:hover {background-color: #d4ebff;}#sk-container-id-13 div.sk-parallel-item::after {content: \"\";width: 100%;border-bottom: 1px solid gray;flex-grow: 1;}#sk-container-id-13 div.sk-label:hover label.sk-toggleable__label {background-color: #d4ebff;}#sk-container-id-13 div.sk-serial::before {content: \"\";position: absolute;border-left: 1px solid gray;box-sizing: border-box;top: 0;bottom: 0;left: 50%;z-index: 0;}#sk-container-id-13 div.sk-serial {display: flex;flex-direction: column;align-items: center;background-color: white;padding-right: 0.2em;padding-left: 0.2em;position: relative;}#sk-container-id-13 div.sk-item {position: relative;z-index: 1;}#sk-container-id-13 div.sk-parallel {display: flex;align-items: stretch;justify-content: center;background-color: white;position: relative;}#sk-container-id-13 div.sk-item::before, #sk-container-id-13 div.sk-parallel-item::before {content: \"\";position: absolute;border-left: 1px solid gray;box-sizing: border-box;top: 0;bottom: 0;left: 50%;z-index: -1;}#sk-container-id-13 div.sk-parallel-item {display: flex;flex-direction: column;z-index: 1;position: relative;background-color: white;}#sk-container-id-13 div.sk-parallel-item:first-child::after {align-self: flex-end;width: 50%;}#sk-container-id-13 div.sk-parallel-item:last-child::after {align-self: flex-start;width: 50%;}#sk-container-id-13 div.sk-parallel-item:only-child::after {width: 0;}#sk-container-id-13 div.sk-dashed-wrapped {border: 1px dashed gray;margin: 0 0.4em 0.5em 0.4em;box-sizing: border-box;padding-bottom: 0.4em;background-color: white;}#sk-container-id-13 div.sk-label label {font-family: monospace;font-weight: bold;display: inline-block;line-height: 1.2em;}#sk-container-id-13 div.sk-label-container {text-align: center;}#sk-container-id-13 div.sk-container {/* jupyter's `normalize.less` sets `[hidden] { display: none; }` but bootstrap.min.css set `[hidden] { display: none !important; }` so we also need the `!important` here to be able to override the default hidden behavior on the sphinx rendered scikit-learn.org. See: https://github.com/scikit-learn/scikit-learn/issues/21755 */display: inline-block !important;position: relative;}#sk-container-id-13 div.sk-text-repr-fallback {display: none;}</style><div id=\"sk-container-id-13\" class=\"sk-top-container\"><div class=\"sk-text-repr-fallback\"><pre>LogisticRegression()</pre><b>In a Jupyter environment, please rerun this cell to show the HTML representation or trust the notebook. <br />On GitHub, the HTML representation is unable to render, please try loading this page with nbviewer.org.</b></div><div class=\"sk-container\" hidden><div class=\"sk-item\"><div class=\"sk-estimator sk-toggleable\"><input class=\"sk-toggleable__control sk-hidden--visually\" id=\"sk-estimator-id-13\" type=\"checkbox\" checked><label for=\"sk-estimator-id-13\" class=\"sk-toggleable__label sk-toggleable__label-arrow\">LogisticRegression</label><div class=\"sk-toggleable__content\"><pre>LogisticRegression()</pre></div></div></div></div></div>"
      ],
      "text/plain": [
       "LogisticRegression()"
      ]
     },
     "execution_count": 47,
     "metadata": {},
     "output_type": "execute_result"
    }
   ],
   "source": [
    "# train the model using logistic regression\n",
    "model = LogisticRegression()\n",
    "model.fit(train_pca, labels_train)"
   ]
  },
  {
   "cell_type": "code",
   "execution_count": 48,
   "metadata": {},
   "outputs": [
    {
     "name": "stdout",
     "output_type": "stream",
     "text": [
      "Train accuracy:  0.602675\n",
      "Validation accuracy:  0.602875\n",
      "Train loss:  0.6589504242333526\n",
      "Validation loss:  0.6583924435210055\n"
     ]
    }
   ],
   "source": [
    "# calculate accuracy and loss on train and val dataset\n",
    "\n",
    "print(\"Train accuracy: \", model.score(train_pca, labels_train))\n",
    "print(\"Validation accuracy: \", model.score(val_pca, labels_val))\n",
    "\n",
    "print(\"Train loss: \", log_loss(labels_train, model.predict_proba(train_pca)))\n",
    "print(\"Validation loss: \", log_loss(labels_val, model.predict_proba(val_pca)))"
   ]
  },
  {
   "cell_type": "code",
   "execution_count": 49,
   "metadata": {},
   "outputs": [
    {
     "name": "stdout",
     "output_type": "stream",
     "text": [
      "Train classification report: \n",
      "               precision    recall  f1-score   support\n",
      "\n",
      "         0.0       0.59      0.49      0.54    131725\n",
      "         1.0       0.61      0.70      0.65    148275\n",
      "\n",
      "    accuracy                           0.60    280000\n",
      "   macro avg       0.60      0.60      0.59    280000\n",
      "weighted avg       0.60      0.60      0.60    280000\n",
      "\n",
      "Validation classification report: \n",
      "               precision    recall  f1-score   support\n",
      "\n",
      "         0.0       0.59      0.49      0.54     56449\n",
      "         1.0       0.61      0.70      0.65     63551\n",
      "\n",
      "    accuracy                           0.60    120000\n",
      "   macro avg       0.60      0.60      0.59    120000\n",
      "weighted avg       0.60      0.60      0.60    120000\n",
      "\n"
     ]
    }
   ],
   "source": [
    "# Precision, recall, f1-score, confusion matrix on train and val dataset using sklearn\n",
    "\n",
    "print(\"Train classification report: \\n\", classification_report(labels_train, model.predict(train_pca)))\n",
    "print(\"Validation classification report: \\n\", classification_report(labels_val, model.predict(val_pca)))"
   ]
  },
  {
   "cell_type": "code",
   "execution_count": null,
   "metadata": {},
   "outputs": [],
   "source": []
  }
 ],
 "metadata": {
  "kernelspec": {
   "display_name": "Python 3",
   "language": "python",
   "name": "python3"
  },
  "language_info": {
   "codemirror_mode": {
    "name": "ipython",
    "version": 3
   },
   "file_extension": ".py",
   "mimetype": "text/x-python",
   "name": "python",
   "nbconvert_exporter": "python",
   "pygments_lexer": "ipython3",
   "version": "3.10.12"
  }
 },
 "nbformat": 4,
 "nbformat_minor": 2
}
